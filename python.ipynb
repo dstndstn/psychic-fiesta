{
 "cells": [
  {
   "cell_type": "code",
   "execution_count": null,
   "id": "opening-nerve",
   "metadata": {},
   "outputs": [],
   "source": [
    "A = [1,2,3]"
   ]
  },
  {
   "cell_type": "code",
   "execution_count": null,
   "id": "trying-banks",
   "metadata": {},
   "outputs": [],
   "source": [
    "B = 7"
   ]
  },
  {
   "cell_type": "code",
   "execution_count": null,
   "id": "diagnostic-branch",
   "metadata": {},
   "outputs": [],
   "source": [
    "C = 4"
   ]
  },
  {
   "cell_type": "code",
   "execution_count": null,
   "id": "unable-navigation",
   "metadata": {},
   "outputs": [],
   "source": []
  }
 ],
 "metadata": {
  "kernelspec": {
   "display_name": "Python 3.10 (conda)",
   "language": "python",
   "name": "python310-conda"
  }
 },
 "nbformat": 4,
 "nbformat_minor": 5
}
