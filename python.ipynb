{
 "cells": [
  {
   "cell_type": "code",
   "execution_count": null,
   "id": "convertible-married",
   "metadata": {},
   "outputs": [],
   "source": [
    "A = [1,2,3]"
   ]
  },
  {
   "cell_type": "code",
   "execution_count": null,
   "id": "corresponding-spare",
   "metadata": {},
   "outputs": [],
   "source": [
    "B = 7"
   ]
  },
  {
   "cell_type": "code",
   "execution_count": null,
   "id": "responsible-produce",
   "metadata": {},
   "outputs": [],
   "source": [
    "C = 8"
   ]
  },
  {
   "cell_type": "code",
   "execution_count": null,
   "id": "8df9657a",
   "metadata": {},
   "outputs": [],
   "source": []
  }
 ],
 "metadata": {
  "kernelspec": {
   "display_name": "Python 3 (ipykernel)",
   "language": "python",
   "name": "python3"
  }
 },
 "nbformat": 4,
 "nbformat_minor": 5
}
