{
 "cells": [
  {
   "cell_type": "code",
   "execution_count": null,
   "id": "continental-trader",
   "metadata": {},
   "outputs": [],
   "source": [
    "A = [1,2,3]"
   ]
  },
  {
   "cell_type": "code",
   "execution_count": null,
   "id": "centered-mystery",
   "metadata": {},
   "outputs": [],
   "source": [
    "B = 7"
   ]
  },
  {
   "cell_type": "code",
   "execution_count": null,
   "id": "dimensional-liability",
   "metadata": {},
   "outputs": [],
   "source": [
    "C = 4"
   ]
  },
  {
   "cell_type": "code",
   "execution_count": null,
   "id": "loved-indonesia",
   "metadata": {},
   "outputs": [],
   "source": []
  }
 ],
 "metadata": {
  "kernelspec": {
   "display_name": "Python 3.9 (conda)",
   "language": "python",
   "name": "python39-conda"
  }
 },
 "nbformat": 4,
 "nbformat_minor": 5
}
