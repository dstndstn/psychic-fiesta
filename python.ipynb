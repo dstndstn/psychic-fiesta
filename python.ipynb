{
 "cells": [
  {
   "cell_type": "code",
   "execution_count": null,
   "id": "convertible-married",
   "metadata": {},
   "outputs": [],
   "source": [
    "A = [1,2,3]"
   ]
  },
  {
   "cell_type": "code",
   "execution_count": null,
   "id": "corresponding-spare",
   "metadata": {},
   "outputs": [],
   "source": [
    "B = 7"
   ]
  },
  {
   "cell_type": "code",
   "execution_count": null,
   "id": "responsible-produce",
   "metadata": {},
   "outputs": [],
   "source": []
  }
 ],
 "metadata": {
  "kernelspec": {
   "display_name": "Python 3.10 (conda)",
   "language": "python",
   "name": "python310-conda"
  }
 },
 "nbformat": 4,
 "nbformat_minor": 5
}
