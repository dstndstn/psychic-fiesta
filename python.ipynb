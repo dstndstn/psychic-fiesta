{
 "cells": [
  {
   "cell_type": "code",
   "execution_count": null,
   "id": "continental-trader",
   "metadata": {},
   "outputs": [],
   "source": [
    "A = [1,2,3]"
   ]
  },
  {
   "cell_type": "code",
   "execution_count": null,
   "id": "centered-mystery",
   "metadata": {},
   "outputs": [],
   "source": [
    "B = 7"
   ]
  },
  {
   "cell_type": "code",
   "execution_count": null,
   "id": "dimensional-liability",
   "metadata": {},
   "outputs": [],
   "source": [
    "C = 4"
   ]
  },
  {
   "cell_type": "code",
   "execution_count": null,
   "id": "loved-indonesia",
   "metadata": {},
   "outputs": [],
   "source": [
    "C = 8"
   ]
  },
  {
   "cell_type": "code",
   "execution_count": null,
   "id": "8df9657a",
   "metadata": {},
   "outputs": [],
   "source": []
  }
 ],
 "metadata": {
  "kernelspec": {
   "display_name": "Python 3 (ipykernel)",
   "language": "python",
   "name": "python3"
  }
 },
 "nbformat": 4,
 "nbformat_minor": 5
}
